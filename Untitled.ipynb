{
 "cells": [
  {
   "cell_type": "code",
   "execution_count": 2,
   "id": "consecutive-victorian",
   "metadata": {},
   "outputs": [
    {
     "name": "stdout",
     "output_type": "stream",
     "text": [
      "Collecting git+https://github.com/gmazzitelli/cygno_repo.git\n",
      "  Cloning https://github.com/gmazzitelli/cygno_repo.git to /tmp/pip-req-build-6cucr04e\n",
      "  Running command git clone -q https://github.com/gmazzitelli/cygno_repo.git /tmp/pip-req-build-6cucr04e\n",
      "Requirement already satisfied: boto3 in /usr/local/lib/python3.6/site-packages (from cygno==1.0) (1.17.42)\n",
      "Requirement already satisfied: boto3sts in /usr/local/lib/python3.6/site-packages (from cygno==1.0) (0.0.6)\n",
      "Requirement already satisfied: requests in /usr/local/lib/python3.6/site-packages (from cygno==1.0) (2.25.1)\n",
      "Requirement already satisfied: pandas in /usr/local/lib64/python3.6/site-packages (from cygno==1.0) (1.1.5)\n",
      "Requirement already satisfied: botocore in /usr/local/lib/python3.6/site-packages (from cygno==1.0) (1.20.42)\n",
      "Requirement already satisfied: matplotlib in /usr/local/lib64/python3.6/site-packages (from cygno==1.0) (3.1.1)\n",
      "Collecting hdbscan\n",
      "  Downloading hdbscan-0.8.27.tar.gz (6.4 MB)\n",
      "\u001b[K     |################################| 6.4 MB 7.3 MB/s eta 0:00:01\n",
      "\u001b[?25h  Installing build dependencies ... \u001b[?25ldone\n",
      "\u001b[?25h  Getting requirements to build wheel ... \u001b[?25ldone\n",
      "\u001b[?25h    Preparing wheel metadata ... \u001b[?25ldone\n",
      "\u001b[?25hRequirement already satisfied: s3transfer<0.4.0,>=0.3.0 in /usr/local/lib/python3.6/site-packages (from boto3->cygno==1.0) (0.3.6)\n",
      "Requirement already satisfied: jmespath<1.0.0,>=0.7.1 in /usr/local/lib/python3.6/site-packages (from boto3->cygno==1.0) (0.10.0)\n",
      "Requirement already satisfied: urllib3<1.27,>=1.25.4 in /usr/local/lib/python3.6/site-packages (from botocore->cygno==1.0) (1.26.4)\n",
      "Requirement already satisfied: python-dateutil<3.0.0,>=2.1 in /usr/local/lib/python3.6/site-packages (from botocore->cygno==1.0) (2.8.0)\n",
      "Requirement already satisfied: six>=1.5 in /usr/local/lib/python3.6/site-packages (from python-dateutil<3.0.0,>=2.1->botocore->cygno==1.0) (1.12.0)\n",
      "Requirement already satisfied: xmltodict in /usr/local/lib/python3.6/site-packages (from boto3sts->cygno==1.0) (0.12.0)\n",
      "Requirement already satisfied: liboidcagent in /usr/local/lib/python3.6/site-packages (from boto3sts->cygno==1.0) (0.3.0)\n",
      "Requirement already satisfied: future in /usr/local/lib/python3.6/site-packages (from boto3sts->cygno==1.0) (0.18.2)\n",
      "Requirement already satisfied: numpy>=1.16 in /usr/local/lib64/python3.6/site-packages (from hdbscan->cygno==1.0) (1.17.3)\n",
      "Requirement already satisfied: scikit-learn>=0.20 in /usr/local/lib64/python3.6/site-packages (from hdbscan->cygno==1.0) (0.21.3)\n",
      "Collecting cython>=0.27\n",
      "  Using cached Cython-0.29.24-cp36-cp36m-manylinux1_x86_64.whl (2.0 MB)\n",
      "Requirement already satisfied: scipy>=1.0 in /usr/local/lib64/python3.6/site-packages (from hdbscan->cygno==1.0) (1.3.1)\n",
      "Collecting joblib>=1.0\n",
      "  Downloading joblib-1.1.0-py2.py3-none-any.whl (306 kB)\n",
      "\u001b[K     |################################| 306 kB 96.5 MB/s eta 0:00:01\n",
      "\u001b[?25hRequirement already satisfied: PyNaCl>=1.2.0 in /usr/local/lib64/python3.6/site-packages (from liboidcagent->boto3sts->cygno==1.0) (1.4.0)\n",
      "Requirement already satisfied: cffi>=1.4.1 in /usr/local/lib64/python3.6/site-packages (from PyNaCl>=1.2.0->liboidcagent->boto3sts->cygno==1.0) (1.14.5)\n",
      "Requirement already satisfied: pycparser in /usr/local/lib/python3.6/site-packages (from cffi>=1.4.1->PyNaCl>=1.2.0->liboidcagent->boto3sts->cygno==1.0) (2.20)\n",
      "Requirement already satisfied: pyparsing!=2.0.4,!=2.1.2,!=2.1.6,>=2.0.1 in /usr/local/lib/python3.6/site-packages (from matplotlib->cygno==1.0) (2.4.2)\n",
      "Requirement already satisfied: kiwisolver>=1.0.1 in /usr/local/lib64/python3.6/site-packages (from matplotlib->cygno==1.0) (1.1.0)\n",
      "Requirement already satisfied: cycler>=0.10 in /usr/local/lib/python3.6/site-packages (from matplotlib->cygno==1.0) (0.10.0)\n",
      "Requirement already satisfied: setuptools in /usr/lib/python3.6/site-packages (from kiwisolver>=1.0.1->matplotlib->cygno==1.0) (39.2.0)\n",
      "Requirement already satisfied: pytz>=2017.2 in /usr/local/lib/python3.6/site-packages (from pandas->cygno==1.0) (2021.1)\n",
      "Requirement already satisfied: certifi>=2017.4.17 in /usr/local/lib/python3.6/site-packages (from requests->cygno==1.0) (2020.12.5)\n",
      "Requirement already satisfied: idna<3,>=2.5 in /usr/local/lib/python3.6/site-packages (from requests->cygno==1.0) (2.10)\n",
      "Requirement already satisfied: chardet<5,>=3.0.2 in /usr/local/lib/python3.6/site-packages (from requests->cygno==1.0) (4.0.0)\n",
      "Using legacy 'setup.py install' for cygno, since package 'wheel' is not installed.\n",
      "Building wheels for collected packages: hdbscan\n",
      "  Building wheel for hdbscan (PEP 517) ... \u001b[?25ldone\n",
      "\u001b[?25h  Created wheel for hdbscan: filename=hdbscan-0.8.27-cp36-cp36m-linux_x86_64.whl size=2534005 sha256=256964a3998e423248a1f7d35c164f4a9330dde224f567491b7d8de2641f4683\n",
      "  Stored in directory: /root/.cache/pip/wheels/70/52/fe/83ef5a0e879c48df9968d931d41046226e4cb19a166f0223d2\n",
      "Successfully built hdbscan\n",
      "Installing collected packages: joblib, cython, hdbscan, cygno\n",
      "  Attempting uninstall: joblib\n",
      "    Found existing installation: joblib 0.14.0\n",
      "    Uninstalling joblib-0.14.0:\n",
      "      Successfully uninstalled joblib-0.14.0\n",
      "    Running setup.py install for cygno ... \u001b[?25ldone\n",
      "\u001b[?25hSuccessfully installed cygno-1.0 cython-0.29.24 hdbscan-0.8.27 joblib-1.1.0\n",
      "\u001b[33mWARNING: You are using pip version 21.0.1; however, version 21.3.1 is available.\n",
      "You should consider upgrading via the '/usr/bin/python3 -m pip install --upgrade pip' command.\u001b[0m\n"
     ]
    }
   ],
   "source": [
    "!pip install git+https://github.com/gmazzitelli/cygno_repo.git"
   ]
  },
  {
   "cell_type": "code",
   "execution_count": 1,
   "id": "precise-producer",
   "metadata": {},
   "outputs": [
    {
     "name": "stdout",
     "output_type": "stream",
     "text": [
      "Welcome to JupyROOT 6.22/06\n"
     ]
    }
   ],
   "source": [
    "import cygno as cy\n",
    "tag=\"LAB\"\n",
    "posix=False\n",
    "cfile = cy.open_(4045, tag=tag, posix=posix, verbose=False)"
   ]
  },
  {
   "cell_type": "code",
   "execution_count": 2,
   "id": "nonprofit-mapping",
   "metadata": {},
   "outputs": [
    {
     "data": {
      "text/plain": [
       "['__class__',\n",
       " '__delattr__',\n",
       " '__dict__',\n",
       " '__dir__',\n",
       " '__doc__',\n",
       " '__eq__',\n",
       " '__format__',\n",
       " '__ge__',\n",
       " '__getattribute__',\n",
       " '__gt__',\n",
       " '__hash__',\n",
       " '__init__',\n",
       " '__init_subclass__',\n",
       " '__le__',\n",
       " '__lt__',\n",
       " '__module__',\n",
       " '__ne__',\n",
       " '__new__',\n",
       " '__reduce__',\n",
       " '__reduce_ex__',\n",
       " '__repr__',\n",
       " '__setattr__',\n",
       " '__sizeof__',\n",
       " '__str__',\n",
       " '__subclasshook__',\n",
       " '__weakref__',\n",
       " 'file',\n",
       " 'max_image',\n",
       " 'max_wfm',\n",
       " 'pic',\n",
       " 'wfm',\n",
       " 'x_resolution',\n",
       " 'y_resolution']"
      ]
     },
     "execution_count": 2,
     "metadata": {},
     "output_type": "execute_result"
    }
   ],
   "source": [
    "dir(cfile)"
   ]
  },
  {
   "cell_type": "code",
   "execution_count": null,
   "id": "under-genome",
   "metadata": {},
   "outputs": [],
   "source": [
    "dir(cy)"
   ]
  },
  {
   "cell_type": "code",
   "execution_count": 5,
   "id": "infrared-portrait",
   "metadata": {},
   "outputs": [
    {
     "name": "stdout",
     "output_type": "stream",
     "text": [
      "/workarea/cloud-storage/cygno/Data/LAB/histograms_Run04045.root\r\n"
     ]
    }
   ],
   "source": [
    "! ls /workarea/cloud-storage/cygno/Data/LAB/histograms_Run04045.root\n"
   ]
  },
  {
   "cell_type": "code",
   "execution_count": null,
   "id": "ongoing-albany",
   "metadata": {},
   "outputs": [],
   "source": []
  }
 ],
 "metadata": {
  "kernelspec": {
   "display_name": "Python 3",
   "language": "python",
   "name": "python3"
  },
  "language_info": {
   "codemirror_mode": {
    "name": "ipython",
    "version": 3
   },
   "file_extension": ".py",
   "mimetype": "text/x-python",
   "name": "python",
   "nbconvert_exporter": "python",
   "pygments_lexer": "ipython3",
   "version": "3.6.8"
  }
 },
 "nbformat": 4,
 "nbformat_minor": 5
}
