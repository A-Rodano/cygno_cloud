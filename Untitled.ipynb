{
 "cells": [
  {
   "cell_type": "code",
   "execution_count": 1,
   "id": "hollow-sponsorship",
   "metadata": {},
   "outputs": [
    {
     "name": "stdout",
     "output_type": "stream",
     "text": [
      "Host: 9f3222c065bc\n",
      "3.6.8 (default, Nov 16 2020, 16:55:22) \n",
      "[GCC 4.8.5 20150623 (Red Hat 4.8.5-44)] <ipykernel.zmqshell.ZMQInteractiveShell object at 0x7f05712e38d0>\n",
      "Welcome to JupyROOT 6.22/06\n"
     ]
    }
   ],
   "source": [
    "%run InitAndFuctions.ipynb"
   ]
  },
  {
   "cell_type": "code",
   "execution_count": 2,
   "id": "differential-upper",
   "metadata": {},
   "outputs": [],
   "source": [
    "#\n",
    "# init run and debug paramas\n",
    "#\n",
    "# Bandella \n",
    "\n",
    "# KFC cosmici\n",
    "runI          = [4035]\n",
    "run_ped       = 4034\n",
    "\n",
    "# KFC Fe\n",
    "runI          = [4039, 4040, 4041, 4042, 4043, 4044, 4045, 4046, 4047]\n",
    "run_ped       = 4038\n",
    "\n",
    "runI          = [4045]\n",
    "run_ped       = 4038\n",
    "\n",
    "\n",
    "cimax         = 500 # normalemnte a 10 testa 500 per capire\n",
    "cimin         = 0 \n",
    "tag           = 'LAB'\n",
    "nsigma        = 1.5\n",
    "fiducial_cut  = 150 # pixel\n",
    "doRescale     = True\n",
    "debug         = True\n",
    "max_tarcks    = 1\n",
    "max_images    = -1\n",
    "###################################\n",
    "min_samples=2\n",
    "residual_threshold=3\n",
    "max_trials=1000\n",
    "random_state=42"
   ]
  },
  {
   "cell_type": "code",
   "execution_count": 3,
   "id": "stock-increase",
   "metadata": {},
   "outputs": [
    {
     "name": "stdout",
     "output_type": "stream",
     "text": [
      "rascale:  4\n",
      "/workarea/cloud-storage/mazzitel/ped/run4038_mean.h5 /workarea/cloud-storage/mazzitel/ped/run4038_sigma.h5\n",
      "light over Th: 29440469.83 \n"
     ]
    }
   ],
   "source": [
    "# \n",
    "# https://scikit-image.org/docs/dev/api/skimage.measure.html\n",
    "#\n",
    "from skimage.measure import LineModelND, ransac, CircleModel\n",
    "from skimage import io, feature, color, measure, draw, img_as_float\n",
    "from sklearn.metrics import mean_squared_error, r2_score\n",
    "\n",
    "###############################################################\n",
    "columns = [\"iTr\", \"cluster_lable\", \"pixels\", \"photons\", \"ph_pixels\", \"x0start\", \"y0start\", \n",
    "          \"x0end\", \"y0end\", \"length\", \"mse\", \"r2\"]\n",
    "\n",
    "cfile = cy.open_(runI[0], tag=tag, posix=posix, verbose=False)\n",
    "if cfile.x_resolution == 2048:\n",
    "    rescale = 512 # orca flash\n",
    "else:\n",
    "    rescale = 576 # fusion\n",
    "\n",
    "\n",
    "if not doRescale: \n",
    "    rescale = cfile.x_resolution\n",
    "    \n",
    "        \n",
    "tscale = int(cfile.x_resolution/rescale)\n",
    "print(\"rascale: \", tscale)\n",
    "fiducial_cut = np.int(fiducial_cut/tscale)\n",
    "#########################\n",
    "\n",
    "m_image, s_image = cy.ped_(run_ped, path=mybasepath+'ped/')\n",
    "\n",
    "#########################\n",
    "\n",
    "th_image   = np.round(m_image + nsigma*s_image)\n",
    "print (\"light over Th: %.2f \" % (th_image.sum()-m_image.sum()))"
   ]
  },
  {
   "cell_type": "code",
   "execution_count": null,
   "id": "threatened-signal",
   "metadata": {},
   "outputs": [],
   "source": []
  }
 ],
 "metadata": {
  "kernelspec": {
   "display_name": "Python 3",
   "language": "python",
   "name": "python3"
  },
  "language_info": {
   "codemirror_mode": {
    "name": "ipython",
    "version": 3
   },
   "file_extension": ".py",
   "mimetype": "text/x-python",
   "name": "python",
   "nbconvert_exporter": "python",
   "pygments_lexer": "ipython3",
   "version": "3.6.8"
  }
 },
 "nbformat": 4,
 "nbformat_minor": 5
}
