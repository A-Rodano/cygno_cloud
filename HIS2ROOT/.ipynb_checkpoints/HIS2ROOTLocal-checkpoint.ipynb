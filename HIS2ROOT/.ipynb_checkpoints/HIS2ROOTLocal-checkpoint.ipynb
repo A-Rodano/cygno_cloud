{
 "cells": [
  {
   "cell_type": "code",
   "execution_count": 9,
   "id": "unlikely-imagination",
   "metadata": {},
   "outputs": [
    {
     "name": "stdout",
     "output_type": "stream",
     "text": [
      "./GEM_side_close_from_corner_light_On.HIS\n",
      "transferring image  0\n",
      "transferring image  5\n",
      "file histograms_Run./GEM_side_close_from_corner_light_On.root done\n",
      "ALL DONE\n"
     ]
    },
    {
     "name": "stderr",
     "output_type": "stream",
     "text": [
      "/bin/mv: cannot move './GEM_side_close_from_corner_light_On.root' to '././histograms_Run./GEM_side_close_from_corner_light_On.root': No such file or directory\n"
     ]
    }
   ],
   "source": [
    "import os,sys\n",
    "\n",
    "import numpy as np \n",
    "import ROOT\n",
    "from root_numpy import array2hist\n",
    "sys.path.append('./')\n",
    "\n",
    "from readerHIS import openHIS\n",
    "\n",
    "def mv_file(filein, fileout):\n",
    "    command = '/bin/mv ' + filein + ' ' + fileout\n",
    "    return os.system(command)\n",
    "\n",
    "def rm_file(filein):\n",
    "    command = '/bin/rm '+ filein\n",
    "    return os.system(command)\n",
    "\n",
    "def grep_file(what, filein):\n",
    "    command = '/usr/bin/grep ' + what +' '+filein\n",
    "    status, output = commands.getstatusoutput(command)\n",
    "    return output\n",
    "def append2file(line, filein):\n",
    "    command = 'echo '+ line + ' >> '+filein\n",
    "    return os.system(command)\n",
    "\n",
    "\n",
    "def ruttalo(his_file):\n",
    "    stem, _ = os.path.splitext(his_file)\n",
    "    his = openHIS(his_file)\n",
    "    outname = stem+'.root' \n",
    "    rf = ROOT.TFile(outname,'recreate')\n",
    "\n",
    "    runN = stem.split('run')[-1]\n",
    "    run = runN if len(runN) else 'XXXX'\n",
    "\n",
    "    for idx, section in enumerate(his):\n",
    "        if idx % 5 == 0: print(\"transferring image \",idx)\n",
    "        (nx,ny) = section.shape \n",
    "        title = stem + ('_%04d' % idx)\n",
    "        postfix = 'run{run}_ev{ev}'.format(run=run,ev=idx)\n",
    "        title = 'pic_{pfx}'.format(pfx=postfix)\n",
    "        h2 = ROOT.TH2S(title,title,nx,0,nx,ny,0,ny)\n",
    "        h2.GetXaxis().SetTitle('x')\n",
    "        h2.GetYaxis().SetTitle('y')\n",
    "        _ = array2hist(np.fliplr(np.transpose(section)),h2)\n",
    "        h2.Write()\n",
    "    rf.Close()\n",
    "    return outname, run\n",
    "path = './'\n",
    "subdir = './'\n",
    "for file in os.listdir(path):\n",
    "    if file.endswith(\".HIS\"):\n",
    "        his_file = path+file\n",
    "        print (his_file)\n",
    "        filein, run = ruttalo(his_file)\n",
    "        fileout = filein\n",
    "        append2file(fileout, path+'/daq_rooted.log')\n",
    "        print (\"file {} done\".format(fileout))\n",
    "        mv_file(filein, path+subdir+fileout)\n",
    "        os.chdir(path)\n",
    "        rm_file(his_file)\n",
    "print(\"ALL DONE\")"
   ]
  },
  {
   "cell_type": "code",
   "execution_count": null,
   "id": "sophisticated-keyboard",
   "metadata": {},
   "outputs": [],
   "source": []
  }
 ],
 "metadata": {
  "kernelspec": {
   "display_name": "Python 3",
   "language": "python",
   "name": "python3"
  },
  "language_info": {
   "codemirror_mode": {
    "name": "ipython",
    "version": 3
   },
   "file_extension": ".py",
   "mimetype": "text/x-python",
   "name": "python",
   "nbconvert_exporter": "python",
   "pygments_lexer": "ipython3",
   "version": "3.6.8"
  }
 },
 "nbformat": 4,
 "nbformat_minor": 5
}
