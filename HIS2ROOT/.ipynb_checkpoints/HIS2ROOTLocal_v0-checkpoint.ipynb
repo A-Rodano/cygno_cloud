{
 "cells": [
  {
   "cell_type": "code",
   "execution_count": 5,
   "id": "closing-brighton",
   "metadata": {},
   "outputs": [
    {
     "name": "stdout",
     "output_type": "stream",
     "text": [
      "--2021-05-31 15:55:58--  https://raw.githubusercontent.com/gmazzitelli/cygno_cloud/main/cygnus_lib.py\n",
      "Resolving raw.githubusercontent.com (raw.githubusercontent.com)... 185.199.110.133, 185.199.108.133, 185.199.109.133, ...\n",
      "Connecting to raw.githubusercontent.com (raw.githubusercontent.com)|185.199.110.133|:443... connected.\n",
      "HTTP request sent, awaiting response... 200 OK\n",
      "Length: 43803 (43K) [text/plain]\n",
      "Saving to: 'cygnus_lib.py'\n",
      "\n",
      "100%[======================================>] 43,803      --.-K/s   in 0.01s   \n",
      "\n",
      "2021-05-31 15:55:58 (2.79 MB/s) - 'cygnus_lib.py' saved [43803/43803]\n",
      "\n",
      "./gem_side_close.HIS\n",
      "transferring image  0\n",
      "transferring image  5\n",
      "file ./gem_side_close.root done\n",
      "ALL DONE\n"
     ]
    }
   ],
   "source": [
    "import os,sys\n",
    "\n",
    "if not os.path.isfile('cygnus_lib.py'): \n",
    "    # to update library remove file cygnus_lib.py\n",
    "    !wget https://raw.githubusercontent.com/gmazzitelli/cygno_cloud/main/cygnus_lib.py\n",
    "sys.path.append('./')\n",
    "import cygnus_lib as cy\n",
    "\n",
    "\n",
    "path = './' # if any subfolder path for data file\n",
    "for file in os.listdir(path):\n",
    "    if file.endswith(\".HIS\"):\n",
    "        his_file = path+file\n",
    "        print (his_file)\n",
    "        filein, run = cy.ruttalo(his_file)\n",
    "        print (\"file {} done\".format(filein))\n",
    "print(\"ALL DONE\")"
   ]
  },
  {
   "cell_type": "code",
   "execution_count": null,
   "id": "weighted-acrobat",
   "metadata": {},
   "outputs": [],
   "source": []
  }
 ],
 "metadata": {
  "kernelspec": {
   "display_name": "Python 3",
   "language": "python",
   "name": "python3"
  },
  "language_info": {
   "codemirror_mode": {
    "name": "ipython",
    "version": 3
   },
   "file_extension": ".py",
   "mimetype": "text/x-python",
   "name": "python",
   "nbconvert_exporter": "python",
   "pygments_lexer": "ipython3",
   "version": "3.6.8"
  }
 },
 "nbformat": 4,
 "nbformat_minor": 5
}
