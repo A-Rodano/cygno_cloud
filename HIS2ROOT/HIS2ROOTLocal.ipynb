{
 "cells": [
  {
   "cell_type": "code",
   "execution_count": 10,
   "id": "vital-dispatch",
   "metadata": {},
   "outputs": [
    {
     "name": "stdout",
     "output_type": "stream",
     "text": [
      "./gem_side_close.HIS\n",
      "transferring image  0\n",
      "transferring image  5\n",
      "file ./gem_side_close.root done\n",
      "ALL DONE\n"
     ]
    },
    {
     "name": "stderr",
     "output_type": "stream",
     "text": [
      "/bin/mv: './gem_side_close.root' and './././gem_side_close.root' are the same file\n"
     ]
    }
   ],
   "source": [
    "import os,sys\n",
    "\n",
    "sys.path.append('./')\n",
    "if not os.path.isfile('cygnus_lib.py') \n",
    "    !wget https://raw.githubusercontent.com/gmazzitelli/cygno_cloud/main/cygnus_lib.py\n",
    "\n",
    "\n",
    "for file in os.listdir(path):\n",
    "    if file.endswith(\".HIS\"):\n",
    "        his_file = path+file\n",
    "        print (his_file)\n",
    "        filein, run = ruttalo(his_file)\n",
    "        print (\"file {} done\".format(filein))\n",
    "print(\"ALL DONE\")"
   ]
  },
  {
   "cell_type": "code",
   "execution_count": 11,
   "id": "early-springer",
   "metadata": {},
   "outputs": [
    {
     "name": "stdout",
     "output_type": "stream",
     "text": [
      "ls: cannot access cygnus_lib.py: No such file or directory\r\n"
     ]
    }
   ],
   "source": [
    "!ls cygnus_lib.py"
   ]
  },
  {
   "cell_type": "code",
   "execution_count": null,
   "id": "comparative-runner",
   "metadata": {},
   "outputs": [],
   "source": []
  }
 ],
 "metadata": {
  "kernelspec": {
   "display_name": "Python 3",
   "language": "python",
   "name": "python3"
  },
  "language_info": {
   "codemirror_mode": {
    "name": "ipython",
    "version": 3
   },
   "file_extension": ".py",
   "mimetype": "text/x-python",
   "name": "python",
   "nbconvert_exporter": "python",
   "pygments_lexer": "ipython3",
   "version": "3.6.8"
  }
 },
 "nbformat": 4,
 "nbformat_minor": 5
}
