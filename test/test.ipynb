{
 "cells": [
  {
   "cell_type": "code",
   "execution_count": 1,
   "id": "novel-stereo",
   "metadata": {},
   "outputs": [
    {
     "name": "stdout",
     "output_type": "stream",
     "text": [
      "Welcome to JupyROOT 6.22/06\n"
     ]
    }
   ],
   "source": [
    "import sys\n",
    "import ROOT\n",
    "import root_numpy as rtnp\n",
    "import matplotlib.pyplot as plt"
   ]
  },
  {
   "cell_type": "code",
   "execution_count": 2,
   "id": "verbal-pursuit",
   "metadata": {},
   "outputs": [
    {
     "name": "stdout",
     "output_type": "stream",
     "text": [
      "Find Keys: 100\n"
     ]
    }
   ],
   "source": [
    "f=ROOT.TFile.Open('https://swift.cloud.infn.it:8080/v1/AUTH_1e60fe39fba04701aa5ffc0b97871ed8/Cygnus/Data/LAB/histograms_Run04037.root')\n",
    "print ('Find Keys: '+str(len(f.GetListOfKeys())))"
   ]
  },
  {
   "cell_type": "code",
   "execution_count": 2,
   "id": "dependent-facility",
   "metadata": {},
   "outputs": [
    {
     "name": "stdout",
     "output_type": "stream",
     "text": [
      "echo oidc-keychain: Agent pid 138\n",
      ";\n",
      "OIDC_SOCK=/tmp/oidc-owanxz/oidc-agent.133; export OIDC_SOCK;\n",
      "OIDCD_PID=138; export OIDCD_PID;\n",
      "\u001b[31mCould not get the socket path from env var 'OIDC_REMOTE_SOCK'. Have you set the env var?\n",
      "\u001b[0m\u001b[31mError: Env var not set\n",
      "\u001b[0m"
     ]
    }
   ],
   "source": [
    "! oidc-keychain\n",
    "import os\n",
    "os.environ['OIDC_SOCK']='/tmp/oidc-WkcYuk/oidc-agent.118'\n",
    "os.environ['OIDCD_PID']='123'\n",
    "! oidc-token infncloud"
   ]
  },
  {
   "cell_type": "code",
   "execution_count": null,
   "id": "equipped-brown",
   "metadata": {},
   "outputs": [],
   "source": []
  }
 ],
 "metadata": {
  "kernelspec": {
   "display_name": "Python 3",
   "language": "python",
   "name": "python3"
  },
  "language_info": {
   "codemirror_mode": {
    "name": "ipython",
    "version": 3
   },
   "file_extension": ".py",
   "mimetype": "text/x-python",
   "name": "python",
   "nbconvert_exporter": "python",
   "pygments_lexer": "ipython3",
   "version": "3.6.8"
  }
 },
 "nbformat": 4,
 "nbformat_minor": 5
}
