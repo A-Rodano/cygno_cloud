{
 "cells": [
  {
   "cell_type": "code",
   "execution_count": 11,
   "id": "arctic-planner",
   "metadata": {},
   "outputs": [],
   "source": [
    "def my_test(nloop):\n",
    "    lst = []\n",
    "    for i in range(nloop):\n",
    "        lst.append('x')"
   ]
  },
  {
   "cell_type": "code",
   "execution_count": 16,
   "id": "opened-panel",
   "metadata": {},
   "outputs": [
    {
     "name": "stdout",
     "output_type": "stream",
     "text": [
      "706 ms ± 22.6 ms per loop (mean ± std. dev. of 5 runs, 5 loops each)\n"
     ]
    }
   ],
   "source": [
    "%timeit -n 5 -r 5  my_test(10000000)"
   ]
  },
  {
   "cell_type": "code",
   "execution_count": null,
   "id": "induced-aggregate",
   "metadata": {},
   "outputs": [],
   "source": []
  }
 ],
 "metadata": {
  "kernelspec": {
   "display_name": "Python 3",
   "language": "python",
   "name": "python3"
  },
  "language_info": {
   "codemirror_mode": {
    "name": "ipython",
    "version": 3
   },
   "file_extension": ".py",
   "mimetype": "text/x-python",
   "name": "python",
   "nbconvert_exporter": "python",
   "pygments_lexer": "ipython3",
   "version": "3.6.8"
  }
 },
 "nbformat": 4,
 "nbformat_minor": 5
}
