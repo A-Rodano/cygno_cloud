{
 "cells": [
  {
   "cell_type": "code",
   "execution_count": 12,
   "id": "instructional-intermediate",
   "metadata": {},
   "outputs": [
    {
     "name": "stdout",
     "output_type": "stream",
     "text": [
      "(8, 21, 9223372036854775808) 8\n",
      "{'y0': 8, 'y1': 21, 'y2': 9223372036854775808} 8\n",
      "['__class__', '__delattr__', '__dict__', '__dir__', '__doc__', '__eq__', '__format__', '__ge__', '__getattribute__', '__gt__', '__hash__', '__init__', '__init_subclass__', '__le__', '__lt__', '__module__', '__ne__', '__new__', '__reduce__', '__reduce_ex__', '__repr__', '__setattr__', '__sizeof__', '__str__', '__subclasshook__', '__weakref__', 'y0', 'y1', 'y2'] 8\n"
     ]
    }
   ],
   "source": [
    "def f(x):\n",
    "    y0 = x + 1\n",
    "    y1 = x * 3\n",
    "    y2 = y0 ** y1\n",
    "    return (y0, y1, y2)\n",
    "def g(x):\n",
    "    y0 = x + 1\n",
    "    y1 = x * 3\n",
    "    y2 = y0 ** y1\n",
    "    return {'y0': y0, 'y1': y1 ,'y2': y2}\n",
    "\n",
    "class ReturnValue:\n",
    "    def __init__(self, y0, y1, y2):\n",
    "        self.y0 = y0\n",
    "        self.y1 = y1\n",
    "        self.y2 = y2\n",
    "\n",
    "def h(x):\n",
    "    y0 = x + 1\n",
    "    y1 = x * 3\n",
    "    y2 = y0 ** y1\n",
    "    return ReturnValue(y0, y1, y2)\n",
    "\n",
    "print(f(7), f(7)[0])\n",
    "print(g(7), g(7)['y0'])\n",
    "print(dir(h(7)), h(7).y0)"
   ]
  },
  {
   "cell_type": "code",
   "execution_count": 13,
   "id": "silent-fusion",
   "metadata": {},
   "outputs": [
    {
     "data": {
      "text/plain": [
       "<bound method ReturnValue.__init__ of <__main__.ReturnValue object at 0x7fd26c055208>>"
      ]
     },
     "execution_count": 13,
     "metadata": {},
     "output_type": "execute_result"
    }
   ],
   "source": [
    "h(7).__init__"
   ]
  },
  {
   "cell_type": "code",
   "execution_count": null,
   "id": "material-mortgage",
   "metadata": {},
   "outputs": [],
   "source": []
  }
 ],
 "metadata": {
  "kernelspec": {
   "display_name": "Python 3",
   "language": "python",
   "name": "python3"
  },
  "language_info": {
   "codemirror_mode": {
    "name": "ipython",
    "version": 3
   },
   "file_extension": ".py",
   "mimetype": "text/x-python",
   "name": "python",
   "nbconvert_exporter": "python",
   "pygments_lexer": "ipython3",
   "version": "3.6.8"
  }
 },
 "nbformat": 4,
 "nbformat_minor": 5
}
