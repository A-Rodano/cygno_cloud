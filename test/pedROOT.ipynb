{
 "cells": [
  {
   "cell_type": "code",
   "execution_count": 3,
   "id": "scenic-opera",
   "metadata": {},
   "outputs": [],
   "source": [
    "#include \"TH2.h\"\n",
    "#include \"TStyle.h\"\n",
    "#include \"TCanvas.h\"\n",
    "#include <stdio.h>\n",
    "#include <iostream>\n",
    "#include \"TGraph.h\"\n",
    "#include \"TGraphErrors.h\"\n",
    "#include \"TFile.h\"\n",
    "#include \"TLine.h\"\n",
    "#include <TF1.h>\n",
    "#include <TVector.h>\n",
    "\n",
    "void mean(int run = 3965, int nImage=100){\n",
    "  gDirectory->DeleteAll();\n",
    "  gStyle->SetPalette(0);\n",
    "  FILE *dataC1;\n",
    "  float img;\n",
    "  int row, col, rowBin, colBin, i;\n",
    "  int nRow = 2048;\n",
    "  int nCol = 2048;\n",
    "  int iImg;\n",
    "  int intBinSize = 4;\n",
    "  int nBinX = nRow/intBinSize;\n",
    "  int nBinY = nCol/intBinSize;\n",
    "  float light[30];\n",
    "  float pedestal[30];\n",
    "\n",
    "  TH2F *hImagePed      = new TH2F(\"hImagePed\",     \"\",nCol,0,nCol,nRow,0,nRow);\n",
    "  TH2F *hImageRaw       = new TH2F(\"hImageRaw\",      \"\",nCol,0,nCol,nRow,0,nRow);\n",
    "  \n",
    "  char name[1000], nameImg[1000], outname[1000];\n",
    "  double value;\n",
    "  //sprintf(name,\"https://swift.cloud.infn.it:8080/v1/AUTH_1e60fe39fba04701aa5ffc0b97871ed8/Cygnus/Data/LAB/histograms_Run%05d.root\", run);\n",
    "  sprintf(name,\"https://s3.cloud.infn.it/v1/AUTH_2ebf769785574195bde2ff418deac08a/cygnus/Data/LAB/histograms_Run%05d.root\",run);\n",
    "  TFile *f = TFile::Open(name);\n",
    "  if(f!=NULL) {\n",
    "    //    if(f->IsOpen()) {\n",
    "    cout<<\" File \"<<name<<\" with size \"<<f->GetSize() <<\" opened!\"<<endl;\n",
    "  } else {\n",
    "    cout<<\" File \"<<name<<\" does not exists!\"<<endl;\n",
    "    return;\n",
    "  }\n",
    "  for(row=1; row<=nRow; row++){\n",
    "    for(col=1; col<=nCol; col++){\n",
    "      hImagePed->SetBinContent(col, row, 0);\n",
    "    }\n",
    "  }\n",
    "  for(img=0; img<nImage; img++){\n",
    "    hImageRaw->Reset();\n",
    "    sprintf(nameImg,\"pic_run%05d_ev%.0f\", run, img);  \n",
    "    hImageRaw = (TH2F*)gDirectory->Get(nameImg)->Clone();;\n",
    "    hImageRaw->SetDirectory(0);\n",
    "    for(row=1; row<=nRow; row++){\n",
    "      for(col=1; col<=nCol; col++){\n",
    "\thImagePed->SetBinContent(col, row, (hImagePed->GetBinContent(col, row))+(1.0/nImage)*hImageRaw->GetBinContent(col, row));\n",
    "      }\n",
    "    }\n",
    "  }\n",
    "  f->Close();\n",
    "\n",
    "sprintf(outname,\"./ped_run%d.root\",run);\n",
    " TFile *outfile = new TFile(outname, \"RECREATE\");\n",
    " hImagePed     ->Write();\n",
    " outfile        ->Write();\n",
    " outfile        ->Close();\n",
    "}\n",
    "\n"
   ]
  },
  {
   "cell_type": "code",
   "execution_count": 4,
   "id": "partial-husband",
   "metadata": {},
   "outputs": [
    {
     "name": "stdout",
     "output_type": "stream",
     "text": [
      " File https://s3.cloud.infn.it/v1/AUTH_2ebf769785574195bde2ff418deac08a/cygnus/Data/LAB/histograms_Run03965.root with size 273404549 opened!\n"
     ]
    }
   ],
   "source": [
    "mean()"
   ]
  },
  {
   "cell_type": "code",
   "execution_count": null,
   "id": "bound-group",
   "metadata": {},
   "outputs": [],
   "source": []
  }
 ],
 "metadata": {
  "kernelspec": {
   "display_name": "ROOT C++ (Python 3)",
   "language": "c++",
   "name": "python36-jupyroot"
  },
  "language_info": {
   "codemirror_mode": "text/x-c++src",
   "file_extension": ".C",
   "mimetype": " text/x-c++src",
   "name": "c++"
  }
 },
 "nbformat": 4,
 "nbformat_minor": 5
}
