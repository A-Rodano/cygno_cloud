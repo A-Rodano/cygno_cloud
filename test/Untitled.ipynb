{
 "cells": [
  {
   "cell_type": "code",
   "execution_count": 2,
   "id": "royal-drinking",
   "metadata": {},
   "outputs": [],
   "source": [
    "import pandas as pd\n",
    "import numpy as np\n",
    "import matplotlib.pyplot as plt\n",
    "from matplotlib.ticker import (MultipleLocator, FormatStrFormatter,\n",
    "                               AutoMinorLocator)\n",
    "import seaborn as sns\n",
    "sns.set()\n",
    "#plt.style.use('fast')\n",
    "#plt.rc('font', size = 14, family ='Sans-Serif')\n",
    "def panda_from_gspreadsheet(key, sheet_name='Sheet1'):\n",
    "  # google spredsheet TO panda dataframe \n",
    "  # ricordarsi di abilitare lo sharing pubblico dei dati\n",
    "  url = 'https://docs.google.com/spreadsheets/d/{key}/gviz/tq?tqx=out:csv&sheet={sheet_name}&headers=1'.format(\n",
    "      key=key, sheet_name=sheet_name.replace(' ', '%20'))\n",
    "  return pd.read_csv(url)"
   ]
  },
  {
   "cell_type": "code",
   "execution_count": 3,
   "id": "promising-pressure",
   "metadata": {},
   "outputs": [],
   "source": [
    "dpr = panda_from_gspreadsheet('1qL5B_J6eV6bD9zicR0YsCIaUMU0BhTdSTrqC1UcDBI8', sheet_name='Sheet1')"
   ]
  },
  {
   "cell_type": "code",
   "execution_count": 8,
   "id": "apparent-headquarters",
   "metadata": {},
   "outputs": [
    {
     "data": {
      "text/plain": [
       "Regione        Lombardia\n",
       "Popolazione      10060.6\n",
       "Superficie       23863.7\n",
       "Densità              422\n",
       "Name: 0, dtype: object"
      ]
     },
     "execution_count": 8,
     "metadata": {},
     "output_type": "execute_result"
    }
   ],
   "source": [
    "dpr.iloc[0, 0:4]"
   ]
  },
  {
   "cell_type": "code",
   "execution_count": 18,
   "id": "female-workshop",
   "metadata": {},
   "outputs": [],
   "source": [
    "var =np.array(dpr.iloc[0, 0:4])"
   ]
  },
  {
   "cell_type": "code",
   "execution_count": 11,
   "id": "funny-federation",
   "metadata": {},
   "outputs": [
    {
     "data": {
      "text/plain": [
       "array(['Lombardia', 10060.574, 23863.65, 422], dtype=object)"
      ]
     },
     "execution_count": 11,
     "metadata": {},
     "output_type": "execute_result"
    }
   ],
   "source": [
    "var"
   ]
  },
  {
   "cell_type": "code",
   "execution_count": 13,
   "id": "quiet-manitoba",
   "metadata": {},
   "outputs": [
    {
     "name": "stdout",
     "output_type": "stream",
     "text": [
      "Regione 0\n",
      "Popolazione 1\n",
      "Superficie 2\n",
      "Densità 3\n",
      "Comuni 4\n",
      "Province 5\n",
      "ti_esitenti 6\n",
      "terapia_intensiva 7\n",
      "densita_ti_perc 8\n",
      "agenas 9\n"
     ]
    }
   ],
   "source": [
    "for i, var in enumerate(dpr):\n",
    "    print (var, i)"
   ]
  },
  {
   "cell_type": "code",
   "execution_count": 16,
   "id": "optional-apparatus",
   "metadata": {},
   "outputs": [
    {
     "name": "stdout",
     "output_type": "stream",
     "text": [
      "['Lombardia' 10060.574 23863.65 422]\n",
      "['Lazio' 5879.081999999999 17232.29 341]\n",
      "['Campania' 5801.691999999999 13670.95 424]\n",
      "['Sicilia' 4999.891 25832.39 194]\n",
      "['Veneto' 4905.854 18345.35 267]\n",
      "['Emilia-Romagna' 4459.477 22452.78 199]\n",
      "['Piemonte' 4356.406 25387.07 172]\n",
      "['Puglia' 4029.053 19540.9 206]\n",
      "['Toscana' 3729.6409999999996 22987.04 162]\n",
      "['Calabria' 1947.131 15221.9 128]\n",
      "['Sardegna' 1639.5910000000001 24100.02 68]\n",
      "['Liguria' 1550.64 5416.21 286]\n",
      "['Marche' 1525.271 9401.38 162]\n",
      "['Abruzzo' 1311.58 10831.84 121]\n",
      "['Friuli Venezia Giulia' 1215.22 7924.36 153]\n",
      "['Trentino Alto Adige' 1072.276 13605.5 79]\n",
      "['Umbria' 882.015 8464.33 104]\n",
      "['Basilicata' 562.869 10073.32 56]\n",
      "['Molise' 305.617 4460.65 69]\n",
      "[\"Valle d'Aosta\" 125.666 3260.9 39]\n"
     ]
    }
   ],
   "source": [
    "for i in range(len(dpr)):\n",
    "    print(np.array(dpr.iloc[i, 0:4]))"
   ]
  },
  {
   "cell_type": "code",
   "execution_count": 19,
   "id": "clear-showcase",
   "metadata": {},
   "outputs": [
    {
     "data": {
      "text/plain": [
       "array(['Lombardia', 10060.574, 23863.65, 422], dtype=object)"
      ]
     },
     "execution_count": 19,
     "metadata": {},
     "output_type": "execute_result"
    }
   ],
   "source": [
    "var"
   ]
  },
  {
   "cell_type": "code",
   "execution_count": 20,
   "id": "genetic-merit",
   "metadata": {},
   "outputs": [
    {
     "name": "stdout",
     "output_type": "stream",
     "text": [
      "Lombardia\n",
      "10060.574\n",
      "23863.65\n",
      "422\n"
     ]
    }
   ],
   "source": [
    "for i, che in enumerate(var):\n",
    "    print(che)\n"
   ]
  },
  {
   "cell_type": "code",
   "execution_count": null,
   "id": "higher-format",
   "metadata": {},
   "outputs": [],
   "source": []
  }
 ],
 "metadata": {
  "kernelspec": {
   "display_name": "Python 3",
   "language": "python",
   "name": "python3"
  },
  "language_info": {
   "codemirror_mode": {
    "name": "ipython",
    "version": 3
   },
   "file_extension": ".py",
   "mimetype": "text/x-python",
   "name": "python",
   "nbconvert_exporter": "python",
   "pygments_lexer": "ipython3",
   "version": "3.6.8"
  }
 },
 "nbformat": 4,
 "nbformat_minor": 5
}
