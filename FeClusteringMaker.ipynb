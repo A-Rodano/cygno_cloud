{
 "cells": [
  {
   "cell_type": "code",
   "execution_count": 1,
   "id": "noticed-nomination",
   "metadata": {},
   "outputs": [
    {
     "name": "stdout",
     "output_type": "stream",
     "text": [
      "Host: 1d620fba6810\n",
      "3.6.8 (default, Nov 16 2020, 16:55:22) \n",
      "[GCC 4.8.5 20150623 (Red Hat 4.8.5-44)] <ipykernel.zmqshell.ZMQInteractiveShell object at 0x7f6514ccd630>\n",
      "Welcome to JupyROOT 6.22/06\n"
     ]
    }
   ],
   "source": [
    "%run InitAndFuctions.ipynb"
   ]
  },
  {
   "cell_type": "code",
   "execution_count": 2,
   "id": "french-update",
   "metadata": {},
   "outputs": [],
   "source": [
    "######################## INIT ###############################\n",
    "# bandella\n",
    "runI          = [4184, 4176, 4168, 4160, 4152, 4144, 4136, 4128, 4120] #440, 440, 440\n",
    "runI          = [4185, 4177, 4169, 4161, 4153, 4145, 4137, 4129, 4121] #430, 440, 440\n",
    "run_ped       = 4183\n",
    "# KFC\n",
    "#runI          = [4039, 4040, 4041, 4042, 4043, 4044, 4045, 4046, 4047] #440, 440, 430\n",
    "#run_ped       = 4038 \n",
    "# # KFC cosmici\n",
    "# runI          = [4035]\n",
    "# run_ped       = 4034\n",
    "\n",
    "cimax         = 500\n",
    "cimin         = 0 \n",
    "tag           = 'LAB'\n",
    "nsigma        = 1.5 \n",
    "fast          = False\n",
    "doRescale     = False\n"
   ]
  },
  {
   "cell_type": "code",
   "execution_count": 3,
   "id": "ready-black",
   "metadata": {},
   "outputs": [
    {
     "name": "stdout",
     "output_type": "stream",
     "text": [
      "File_Number                                                    4185\n",
      "saved_events                                                    200\n",
      "Exposure_Time_ms                                                 10\n",
      "comments                          Source Fe - Pos 6.5 cm - Vg1 431V\n",
      "Nominal_Flux_He_CF4                                           60/40\n",
      "He_CF4                                                          NaN\n",
      "Transfer_field_kV_cm                                            2.5\n",
      "GEM3_V                                                          440\n",
      "GEM2_V                                                          440\n",
      "GEM1_V                                                          431\n",
      "Calculated_GEM_stack_V                                         1316\n",
      "Requested_Drift_field_V_cm                                      960\n",
      "Calculated_Field_Cage_Anode_V                                 316.8\n",
      "Real_Field_Cage_Anode_V                                         370\n",
      "Calculated_Field_Cage_Catode_V                                49632\n",
      "Calculated_Drift_Field_V_cm                                 959.984\n",
      "Name: 3151, dtype: object\n"
     ]
    },
    {
     "data": {
      "text/plain": [
       "File_Number                                                    4185\n",
       "saved_events                                                    200\n",
       "Exposure_Time_ms                                                 10\n",
       "comments                          Source Fe - Pos 6.5 cm - Vg1 431V\n",
       "Nominal_Flux_He_CF4                                           60/40\n",
       "He_CF4                                                          NaN\n",
       "Transfer_field_kV_cm                                            2.5\n",
       "GEM3_V                                                          440\n",
       "GEM2_V                                                          440\n",
       "GEM1_V                                                          431\n",
       "Calculated_GEM_stack_V                                         1316\n",
       "Requested_Drift_field_V_cm                                      960\n",
       "Calculated_Field_Cage_Anode_V                                 316.8\n",
       "Real_Field_Cage_Anode_V                                         370\n",
       "Calculated_Field_Cage_Catode_V                                49632\n",
       "Calculated_Drift_Field_V_cm                                 959.984\n",
       "Name: 3151, dtype: object"
      ]
     },
     "execution_count": 3,
     "metadata": {},
     "output_type": "execute_result"
    }
   ],
   "source": [
    "run_info_logbook(runI[0])"
   ]
  },
  {
   "cell_type": "code",
   "execution_count": null,
   "id": "streaming-builder",
   "metadata": {},
   "outputs": [],
   "source": [
    "version       = 'vF0'\n",
    "%run FeDbscan.ipynb"
   ]
  },
  {
   "cell_type": "code",
   "execution_count": null,
   "id": "fewer-nursery",
   "metadata": {},
   "outputs": [],
   "source": []
  }
 ],
 "metadata": {
  "kernelspec": {
   "display_name": "Python 3",
   "language": "python",
   "name": "python3"
  },
  "language_info": {
   "codemirror_mode": {
    "name": "ipython",
    "version": 3
   },
   "file_extension": ".py",
   "mimetype": "text/x-python",
   "name": "python",
   "nbconvert_exporter": "python",
   "pygments_lexer": "ipython3",
   "version": "3.6.8"
  }
 },
 "nbformat": 4,
 "nbformat_minor": 5
}
