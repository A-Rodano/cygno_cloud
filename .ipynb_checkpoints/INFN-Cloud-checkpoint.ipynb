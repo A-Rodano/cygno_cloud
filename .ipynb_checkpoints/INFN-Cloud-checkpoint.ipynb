{
 "cells": [
  {
   "cell_type": "markdown",
   "id": "former-officer",
   "metadata": {},
   "source": [
    "# INFN - Cloud istraction"
   ]
  },
  {
   "cell_type": "markdown",
   "id": "floppy-seeker",
   "metadata": {},
   "source": [
    "- if you do not have an AAI id plese crete credential at https://portale-sisinfo.infn.it/login.php\n",
    "- then plese authenticte on  https://login.cloud.infn.it\n",
    "- ask to giovanni.mazzitelli@lnf.infn.it for a resorce endpoint (https://192.135.24.136:8888/)"
   ]
  },
  {
   "cell_type": "markdown",
   "id": "higher-offense",
   "metadata": {},
   "source": [
    "- if you use as work area cloud-storage/[username] you can access data on  https://minio.cloud.infn.it/"
   ]
  },
  {
   "cell_type": "code",
   "execution_count": 1,
   "id": "dress-evening",
   "metadata": {},
   "outputs": [
    {
     "name": "stdout",
     "output_type": "stream",
     "text": [
      "Welcome to JupyROOT 6.22/06\n",
      "Open file: /workarea/cloud-storage/cygnus/Data/LAB/histograms_Run04020.root\n"
     ]
    }
   ],
   "source": [
    "import ROOT\n",
    "run = 4020\n",
    "tag = \"LAB\"\n",
    "bpath = '/workarea/cloud-storage/cygnus/Data/'\n",
    "path = bpath+tag+'/histograms_Run{:05d}'.format(run)+'.root'\n",
    "# POSIX\n",
    "print ('Open file: '+path)\n",
    "f = ROOT.TFile.Open(path)"
   ]
  },
  {
   "cell_type": "code",
   "execution_count": 3,
   "id": "round-poverty",
   "metadata": {},
   "outputs": [
    {
     "name": "stdout",
     "output_type": "stream",
     "text": [
      "Open file: https://s3.cloud.infn.it/v1/AUTH_2ebf769785574195bde2ff418deac08a/cygnus/Data/LAB/histograms_Run04020.root\n"
     ]
    }
   ],
   "source": [
    "run = 4020\n",
    "tag = \"LAB\"\n",
    "# HHTPS\n",
    "burl= 'https://s3.cloud.infn.it/v1/AUTH_2ebf769785574195bde2ff418deac08a/cygnus/Data/'\n",
    "url = burl+tag+'/histograms_Run{:05d}'.format(run)+'.root'\n",
    "print ('Open file: '+url)\n",
    "f = ROOT.TFile.Open(url)"
   ]
  },
  {
   "cell_type": "code",
   "execution_count": null,
   "id": "floppy-florence",
   "metadata": {},
   "outputs": [],
   "source": []
  }
 ],
 "metadata": {
  "kernelspec": {
   "display_name": "Python 3",
   "language": "python",
   "name": "python3"
  },
  "language_info": {
   "codemirror_mode": {
    "name": "ipython",
    "version": 3
   },
   "file_extension": ".py",
   "mimetype": "text/x-python",
   "name": "python",
   "nbconvert_exporter": "python",
   "pygments_lexer": "ipython3",
   "version": "3.6.8"
  }
 },
 "nbformat": 4,
 "nbformat_minor": 5
}
