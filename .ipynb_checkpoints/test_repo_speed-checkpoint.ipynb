{
 "cells": [
  {
   "cell_type": "code",
   "execution_count": 1,
   "metadata": {},
   "outputs": [
    {
     "name": "stdout",
     "output_type": "stream",
     "text": [
      "Welcome to JupyROOT 6.22/06\n"
     ]
    }
   ],
   "source": [
    "import sys\n",
    "import ROOT\n",
    "import root_numpy as rtnp\n",
    "import matplotlib.pyplot as plt\n",
    "\n",
    "def TGraph2array(tgraph):\n",
    "    import numpy as np\n",
    "    xl = []; yl = []\n",
    "    for i in range(tgraph.GetN()):\n",
    "        xi = ctypes.c_double(); yi = ctypes.c_double()\n",
    "        tgraph.GetPoint(i,xi,yi)\n",
    "        xl.append(xi.value)\n",
    "        yl.append(yi.value)\n",
    "    x = np.array(xl)\n",
    "    y = np.array(yl)\n",
    "    return x, y\n",
    "\n",
    "def root_TH2_name(root_file):\n",
    "    pic = []\n",
    "    wfm = []\n",
    "    for i,e in enumerate(root_file.GetListOfKeys()):\n",
    "        che = e.GetName()\n",
    "        if ('pic_run' in str(che)):\n",
    "            pic.append(che)\n",
    "        elif ('wfm_run' in str(che)):\n",
    "            wfm.append(che)\n",
    "    return pic, wfm\n",
    "\n",
    "def show_root_image(file, tag='LAB', iTr=0, vmin=95, vmax=150, new=True):\n",
    "    import matplotlib.pyplot as plt\n",
    "    if new:\n",
    "        f_to_open = 'https://cygnus-minio.cloud.infn.it/Data/'+tag+'/'+file\n",
    "    else:\n",
    "        f_to_open = 'https://swift.cloud.infn.it:8080/v1/AUTH_1e60fe39fba04701aa5ffc0b97871ed8/Cygnus/Data/'+tag+'/'+file\n",
    "        f_to_open = '/workarea/cloud-storage/cygnus/Data/'+tag+'/'+file\n",
    "    print(f_to_open)\n",
    "    f = ROOT.TFile.Open(f_to_open)\n",
    "    pic, wfm = root_TH2_name(f)\n",
    "    print (\"# of image: {:d} # of waform: {:d}\".format(len(pic), len(wfm)))\n",
    "    if len(wfm):\n",
    "        fig, ax = plt.subplots (1,2, figsize=(10,5))\n",
    "    else:\n",
    "        fig, ax = plt.subplots (1, figsize=(10,10))\n",
    "    #\n",
    "\n",
    "    image = rtnp.hist2array(f.Get(pic[iTr]))\n",
    "    if len(wfm):\n",
    "        ax[0].imshow(image,  cmap=\"jet\", vmin=vmin,vmax=vmax)\n",
    "        t,a = TGraph2array(f.Get(wfm[iTr]))\n",
    "        ax[1].plot(t,a) \n",
    "    else:\n",
    "        ax.imshow(image,  cmap=\"jet\", vmin=vmin,vmax=vmax)\n",
    "def loop_root_image(file, tag='LAB', where='posix'):\n",
    "    import matplotlib.pyplot as plt\n",
    "    if where=='cloud':\n",
    "        f_to_open = 'https://cygnus-minio.cloud.infn.it/Data/'+tag+'/'+file\n",
    "        f_to_open = 'https://s3.cloud.infn.it/v1/AUTH_2ebf769785574195bde2ff418deac08a/cygnus/Data/'+tag+'/'+file\n",
    "    elif where=='swift':\n",
    "        f_to_open = 'https://swift.cloud.infn.it:8080/v1/AUTH_1e60fe39fba04701aa5ffc0b97871ed8/Cygnus/Data/'+tag+'/'+file\n",
    "    elif where=='posix':\n",
    "        f_to_open = '/workarea/cloud-storage/cygnus/Data/'+tag+'/'+file\n",
    "    print(f_to_open)\n",
    "    f = ROOT.TFile.Open(f_to_open)\n",
    "    pic, wfm = root_TH2_name(f)\n",
    "    print (\"# of image: {:d} # of waform: {:d}\".format(len(pic), len(wfm)))\n",
    "    for iTr in range(len(pic)): # max_image per tutte le imagini\n",
    "        if iTr % 10 == 0: \n",
    "          # running & debug ...\n",
    "          print ('Event: ', iTr)\n",
    "          # end \n",
    "\n",
    "        image = rtnp.hist2array(f.Get(pic[iTr])).T\n",
    "        \n",
    "    print (\"DONE\")"
   ]
  },
  {
   "cell_type": "code",
   "execution_count": 2,
   "metadata": {},
   "outputs": [],
   "source": [
    "file = 'histograms_Run04038.root'"
   ]
  },
  {
   "cell_type": "code",
   "execution_count": 3,
   "metadata": {},
   "outputs": [
    {
     "name": "stdout",
     "output_type": "stream",
     "text": [
      "222 ms ± 6.9 ms per loop (mean ± std. dev. of 7 runs, 1 loop each)\n"
     ]
    }
   ],
   "source": [
    "%timeit ROOT.TFile.Open('https://swift.cloud.infn.it:8080/v1/AUTH_1e60fe39fba04701aa5ffc0b97871ed8/Cygnus/Data/LAB/'+file)"
   ]
  },
  {
   "cell_type": "code",
   "execution_count": 4,
   "metadata": {},
   "outputs": [
    {
     "name": "stdout",
     "output_type": "stream",
     "text": [
      "1.97 s ± 41 ms per loop (mean ± std. dev. of 7 runs, 1 loop each)\n"
     ]
    }
   ],
   "source": [
    "%timeit ROOT.TFile.Open('https://cygnus-minio.cloud.infn.it/Data/LAB/'+file)"
   ]
  },
  {
   "cell_type": "code",
   "execution_count": 5,
   "metadata": {},
   "outputs": [
    {
     "name": "stdout",
     "output_type": "stream",
     "text": [
      "226 ms ± 3.08 ms per loop (mean ± std. dev. of 7 runs, 1 loop each)\n"
     ]
    }
   ],
   "source": [
    "%timeit ROOT.TFile.Open('https://s3.cloud.infn.it/v1/AUTH_2ebf769785574195bde2ff418deac08a/cygnus/Data/LAB/'+file)"
   ]
  },
  {
   "cell_type": "code",
   "execution_count": 6,
   "metadata": {
    "scrolled": true
   },
   "outputs": [
    {
     "name": "stdout",
     "output_type": "stream",
     "text": [
      "The slowest run took 108.17 times longer than the fastest. This could mean that an intermediate result is being cached.\n",
      "566 ms ± 240 ms per loop (mean ± std. dev. of 7 runs, 1 loop each)\n"
     ]
    }
   ],
   "source": [
    "# cd /.init\n",
    "# /sts-wire https://iam.cloud.infn.it/  cygnus https://minio.cloud.infn.it/ /cygnus ../s3/cygnus > .mount_log_cygnus.txt &\n",
    "%timeit ROOT.TFile.Open('/workarea/cloud-storage/cygnus/Data/LAB/'+file)"
   ]
  },
  {
   "cell_type": "code",
   "execution_count": 7,
   "metadata": {},
   "outputs": [
    {
     "name": "stdout",
     "output_type": "stream",
     "text": [
      "613 ms ± 42.4 ms per loop (mean ± std. dev. of 7 runs, 1 loop each)\n"
     ]
    }
   ],
   "source": [
    "%timeit ROOT.TFile.Open('/workarea/cloud-storage/cygnus/Data/LAB/'+file)"
   ]
  },
  {
   "cell_type": "code",
   "execution_count": 8,
   "metadata": {},
   "outputs": [],
   "source": [
    "#show_root_image(file='histograms_Run04038.root', tag='LAB', new=False)"
   ]
  },
  {
   "cell_type": "code",
   "execution_count": 9,
   "metadata": {},
   "outputs": [
    {
     "name": "stdout",
     "output_type": "stream",
     "text": [
      "/workarea/cloud-storage/cygnus/Data/LAB/histograms_Run04038.root\n",
      "# of image: 200 # of waform: 0\n",
      "Event:  0\n",
      "Event:  10\n",
      "Event:  20\n",
      "Event:  30\n",
      "Event:  40\n",
      "Event:  50\n",
      "Event:  60\n",
      "Event:  70\n",
      "Event:  80\n",
      "Event:  90\n",
      "Event:  100\n",
      "Event:  110\n",
      "Event:  120\n",
      "Event:  130\n",
      "Event:  140\n",
      "Event:  150\n",
      "Event:  160\n",
      "Event:  170\n",
      "Event:  180\n",
      "Event:  190\n",
      "DONE\n",
      "31.8 s ± 0 ns per loop (mean ± std. dev. of 1 run, 1 loop each)\n"
     ]
    }
   ],
   "source": [
    "%timeit -n 1 -r 1 loop_root_image(file, where='posix')"
   ]
  },
  {
   "cell_type": "code",
   "execution_count": 10,
   "metadata": {},
   "outputs": [
    {
     "name": "stdout",
     "output_type": "stream",
     "text": [
      "https://s3.cloud.infn.it/v1/AUTH_2ebf769785574195bde2ff418deac08a/cygnus/Data/LAB/histograms_Run04038.root\n",
      "# of image: 200 # of waform: 0\n",
      "Event:  0\n",
      "Event:  10\n",
      "Event:  20\n",
      "Event:  30\n",
      "Event:  40\n",
      "Event:  50\n",
      "Event:  60\n",
      "Event:  70\n",
      "Event:  80\n",
      "Event:  90\n",
      "Event:  100\n",
      "Event:  110\n",
      "Event:  120\n",
      "Event:  130\n",
      "Event:  140\n",
      "Event:  150\n",
      "Event:  160\n",
      "Event:  170\n",
      "Event:  180\n",
      "Event:  190\n",
      "DONE\n",
      "23.8 s ± 0 ns per loop (mean ± std. dev. of 1 run, 1 loop each)\n"
     ]
    }
   ],
   "source": [
    "%timeit -n 1 -r 1 loop_root_image(file, where='cloud')"
   ]
  },
  {
   "cell_type": "code",
   "execution_count": 11,
   "metadata": {},
   "outputs": [
    {
     "name": "stdout",
     "output_type": "stream",
     "text": [
      "https://swift.cloud.infn.it:8080/v1/AUTH_1e60fe39fba04701aa5ffc0b97871ed8/Cygnus/Data/LAB/histograms_Run04038.root\n",
      "# of image: 200 # of waform: 0\n",
      "Event:  0\n",
      "Event:  10\n",
      "Event:  20\n",
      "Event:  30\n",
      "Event:  40\n",
      "Event:  50\n",
      "Event:  60\n",
      "Event:  70\n",
      "Event:  80\n",
      "Event:  90\n",
      "Event:  100\n",
      "Event:  110\n",
      "Event:  120\n",
      "Event:  130\n",
      "Event:  140\n",
      "Event:  150\n",
      "Event:  160\n",
      "Event:  170\n",
      "Event:  180\n",
      "Event:  190\n",
      "DONE\n",
      "25.7 s ± 0 ns per loop (mean ± std. dev. of 1 run, 1 loop each)\n"
     ]
    }
   ],
   "source": [
    "%timeit -n 1 -r 1 loop_root_image(file, where='swift')"
   ]
  },
  {
   "cell_type": "code",
   "execution_count": null,
   "metadata": {},
   "outputs": [],
   "source": []
  }
 ],
 "metadata": {
  "kernelspec": {
   "display_name": "Python 3",
   "language": "python",
   "name": "python3"
  },
  "language_info": {
   "codemirror_mode": {
    "name": "ipython",
    "version": 3
   },
   "file_extension": ".py",
   "mimetype": "text/x-python",
   "name": "python",
   "nbconvert_exporter": "python",
   "pygments_lexer": "ipython3",
   "version": "3.6.8"
  }
 },
 "nbformat": 4,
 "nbformat_minor": 2
}
